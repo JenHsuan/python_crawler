{
 "cells": [
  {
   "cell_type": "code",
   "execution_count": null,
   "metadata": {
    "collapsed": false
   },
   "outputs": [],
   "source": [
    "import sys\n",
    "import matplotlib.pyplot as plt\n",
    "from matplotlib.font_manager import fontManager\n",
    "import numpy as np\n",
    "import csv\n",
    "\n",
    "def opencsv(csvFile):\n",
    "    plotdata_x = []\n",
    "    plotdata_y = []\n",
    "    csvf = open(csvFile, 'r')\n",
    "    id_max = 0\n",
    "    discount_max = 0\n",
    "    for row in csv.DictReader(csvf):\n",
    "        # print row['id']\n",
    "        plotdata_x.append(row['id'])\n",
    "        plotdata_y.append(row['discount'])\n",
    "        if int(row['id']) > id_max:\n",
    "            id_max = int(row['id'])\n",
    "        if float(row['discount']) > discount_max:\n",
    "            discount_max = float(row['discount'])\n",
    "    print id_max\n",
    "    print discount_max\n",
    "    csvf.close()\n",
    "    plt.plot(plotdata_x,plotdata_y,\"b.\",linewidth=1, label = 'Discount')  \n",
    "    plt.xlabel(\"Category ID\")\n",
    "    plt.ylabel(\"Discount\")\n",
    "    plt.show()  \n",
    "\n",
    "opencsv('product_list.csv')"
   ]
  },
  {
   "cell_type": "code",
   "execution_count": null,
   "metadata": {
    "collapsed": true
   },
   "outputs": [],
   "source": []
  },
  {
   "cell_type": "code",
   "execution_count": null,
   "metadata": {
    "collapsed": true
   },
   "outputs": [],
   "source": []
  },
  {
   "cell_type": "code",
   "execution_count": null,
   "metadata": {
    "collapsed": true
   },
   "outputs": [],
   "source": []
  },
  {
   "cell_type": "code",
   "execution_count": null,
   "metadata": {
    "collapsed": true
   },
   "outputs": [],
   "source": []
  }
 ],
 "metadata": {
  "kernelspec": {
   "display_name": "Python 2",
   "language": "python",
   "name": "python2"
  },
  "language_info": {
   "codemirror_mode": {
    "name": "ipython",
    "version": 2
   },
   "file_extension": ".py",
   "mimetype": "text/x-python",
   "name": "python",
   "nbconvert_exporter": "python",
   "pygments_lexer": "ipython2",
   "version": "2.7.10"
  }
 },
 "nbformat": 4,
 "nbformat_minor": 0
}
